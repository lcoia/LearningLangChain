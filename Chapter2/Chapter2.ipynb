{
  "nbformat": 4,
  "nbformat_minor": 0,
  "metadata": {
    "colab": {
      "provenance": [],
      "authorship_tag": "ABX9TyOjmeX/4pJ0ZdnvWtOrSELe",
      "include_colab_link": true
    },
    "kernelspec": {
      "name": "python3",
      "display_name": "Python 3"
    },
    "language_info": {
      "name": "python"
    }
  },
  "cells": [
    {
      "cell_type": "markdown",
      "metadata": {
        "id": "view-in-github",
        "colab_type": "text"
      },
      "source": [
        "<a href=\"https://colab.research.google.com/github/lcoia/LearningLangChain/blob/main/Chapter2/Chapter2.ipynb\" target=\"_parent\"><img src=\"https://colab.research.google.com/assets/colab-badge.svg\" alt=\"Open In Colab\"/></a>"
      ]
    },
    {
      "cell_type": "code",
      "execution_count": null,
      "metadata": {
        "id": "OZaKstluTsML"
      },
      "outputs": [],
      "source": [
        "!pip install langchain langchain-groq langchain-community"
      ]
    },
    {
      "cell_type": "code",
      "source": [
        "\"\"\"\n",
        "a-text-loader.py\n",
        "\n",
        "Note: Files are not saved after the Colab runtime terminates.\n",
        "Load the sample text file, ECB_policymakers.txt, from the sample_data folder.\n",
        "Please upload the text file, ECB_policymakers.txt, from the link below to the sample_data folder.\n",
        "\n",
        "https://drive.google.com/file/d/1pO-DRfmc5KuHIZbD75hffcyAEmICclbL/view?usp=sharing\n",
        "\n",
        "\n",
        "LangChain Loaders\n",
        "https://python.langchain.com/api_reference/community/document_loaders.html\n",
        "\n",
        "\"\"\"\n",
        "\n",
        "from langchain_community.document_loaders import TextLoader\n",
        "\n",
        "loader = TextLoader('./sample_data/ECB_policymakers.txt', encoding=\"utf-8\")\n",
        "docs = loader.load()\n",
        "\n",
        "print(docs)"
      ],
      "metadata": {
        "id": "a5f5khQa1vKL",
        "colab": {
          "base_uri": "https://localhost:8080/"
        },
        "outputId": "d1f303ae-d6b1-48b5-9c61-82aeeba581f8"
      },
      "execution_count": 3,
      "outputs": [
        {
          "output_type": "stream",
          "name": "stdout",
          "text": [
            "[Document(metadata={'source': './sample_data/ECB_policymakers.txt'}, page_content=\"European Central Bank policymakers are becoming increasingly confident about cutting interest rates in June as inflation continues its march lower, but there is little to no appetite for a big move, six sources told Reuters.\\n\\nECB governors gathering in Washington for the International Monetary Fund and World Bank's Spring Meetings took stock of a weakening economy in the euro zone and around the world as uncertainty from tariffs imposed by U.S. President Donald Trump puts a dampener on investment.\\n\\nData out of the euro zone also showed business growth stalling this month and pay hikes expected to ease considerably.\\n\\nMost importantly for inflation, the 20% tariff rate provisionally imposed by Trump on European goods had been less severe than modelled by the ECB and the risk of retaliation by the European Union had so far been averted.\\n\\nThat meant that many governors were now seeing growing chances of an eighth quarter-point cut at their June 4 meeting, when the ECB will update its own economic forecasts. The ECB trimmed its benchmark rate to 2.25% earlier this month.\\n\\nIn line with the ECB's official line, they were keeping an open mind, however, given that the decision was still more than a month away and economic policy had become unpredictable since Donald Trump's April 2 announcement.\\n\\nAn ECB spokesperson declined to comment.\\n\\nTrump's move shook investor confidence in the U.S. economy and even its status as the world's safe haven, causing fuel prices as well as the dollar to fall against the euro.\\n\\nThis resulted in growing disinflationary pressure in the euro zone, assuaging concerns about high price growth becoming entrenched among even some of the more hawkish members of the ECB's Governing Council.\\n\\nThe outlook further out remains foggy, however, with the prospect of a more fragmented world, cheaper imports from China and stronger domestic demand from Germany's fiscal spending plans creating contrasting forces.\\n\\nFor this reason, too, policymakers who spoke to Reuters saw no reason at present to consider a bigger, 50-basis-point cut, which they also believed might raise unnecessary alarm among market participants.\")]\n"
          ]
        }
      ]
    },
    {
      "cell_type": "code",
      "source": [
        "\"\"\"\n",
        "Beautiful Soup is a library that makes it easy to scrape information from web pages.\n",
        "This library is required for the next example.\n",
        "\n",
        "\"\"\"\n",
        "\n",
        "!pip install beautifulsoup4"
      ],
      "metadata": {
        "colab": {
          "base_uri": "https://localhost:8080/"
        },
        "id": "KAE1UZgZ93D0",
        "outputId": "77b43370-c4b5-4155-ff8f-13626706c173"
      },
      "execution_count": 4,
      "outputs": [
        {
          "output_type": "stream",
          "name": "stdout",
          "text": [
            "Requirement already satisfied: beautifulsoup4 in /usr/local/lib/python3.11/dist-packages (4.13.4)\n",
            "Requirement already satisfied: soupsieve>1.2 in /usr/local/lib/python3.11/dist-packages (from beautifulsoup4) (2.7)\n",
            "Requirement already satisfied: typing-extensions>=4.0.0 in /usr/local/lib/python3.11/dist-packages (from beautifulsoup4) (4.13.2)\n"
          ]
        }
      ]
    },
    {
      "cell_type": "code",
      "source": [
        "\"\"\"\n",
        "b-web-loader.py\n",
        "\n",
        "Load a web page.\n",
        "\n",
        "\"\"\"\n",
        "\n",
        "from langchain_community.document_loaders import WebBaseLoader\n",
        "\n",
        "loader = WebBaseLoader('https://www.langchain.com/')\n",
        "docs = loader.load()\n",
        "\n",
        "print(docs)"
      ],
      "metadata": {
        "colab": {
          "base_uri": "https://localhost:8080/"
        },
        "id": "xwOTUpwf9b8I",
        "outputId": "a17c5d42-bfaf-4137-e93f-80edfe2d3816"
      },
      "execution_count": 13,
      "outputs": [
        {
          "output_type": "stream",
          "name": "stdout",
          "text": [
            "[Document(metadata={'source': 'https://www.langchain.com/', 'title': 'LangChain', 'description': 'LangChain’s suite of products supports developers along each step of their development journey.', 'language': 'en'}, page_content=\"LangChain\\n\\n\\n\\n\\n\\n\\n\\n\\n\\n\\n\\n\\n\\n\\n\\n\\n\\n\\n\\n\\n\\n\\n\\nProducts\\n\\nLangGraphLangSmithLangChainResources\\n\\nResources HubBlogCustomer StoriesLangChain AcademyCommunityExpertsChangelogDocs\\n\\nPythonLangGraphLangSmithLangChainJavaScriptLangGraphLangSmithLangChainCompany\\n\\nAboutCareersPricing\\n\\nLangSmithLangGraph PlatformGet a demoSign up\\n\\n\\n\\n\\n\\n\\n\\n\\n\\n\\n\\n\\nProducts\\n\\nLangGraphLangSmithLangChainResources\\n\\nResources HubBlogCustomer StoriesLangChain AcademyCommunityExpertsChangelogDocs\\n\\nPythonLangGraphLangSmithLangChainJavaScriptLangGraphLangSmithLangChainCompany\\n\\nAboutCareersPricing\\n\\nLangSmithLangGraph PlatformGet a demoSign upLangChain’s suite of products supports developers along each step of the LLM application lifecycle.Applications that can reason. Powered by LangChain.Get a demo\\n\\nSign up to be the first to access recordings from Interrupt, The AI\\xa0Agent Conference!Learn More\\n\\n\\nFrom startups to global enterprises, ambitious builders choose LangChain products.BuildLangChain is a composable framework to build with LLMs. LangGraph is the orchestration framework for controllable agentic workflows.RunDeploy your LLM applications at scale with LangGraph Platform, our infrastructure purpose-built for agents.ManageLangSmith is a unified agent observability and evals platform to optimize the performance of your\\xa0AI agents - whether they're built with a LangChain framework or not.\\xa0\\n\\n\\n\\nBuild your app with LangChainBuild context-aware, reasoning applications with LangChain’s flexible framework that leverages your company’s data and APIs. Future-proof your application by making vendor optionality part of your LLM infrastructure design.Learn more about LangChain\\n\\n\\n\\n\\nRun at scale with LangGraph\\xa0PlatformUse LangGraph Platform’s APIs to design agent-driven user experiences featuring human-in-the-loop, multi-agent collaboration, conversation history, long-term memory, and time-travel. Deploy with fault-tolerant scalability.\\n\\n\\nLearn more about LangGraph\\xa0Platform\\n\\nManage agent observability & performance with\\xa0LangSmithGet visibility into your LLM calls and agent reasoning with LangSmith to quickly debug failures.\\xa0Run evals to assess your agent performance over production traffic —\\xa0so you can ensure high-quality responses. Learn more about LangSmith\\n\\n\\nHear from our happy customersLangChain, LangGraph, and LangSmith help teams of all sizes, across all industries - from ambitious startups to established enterprises.“By combining the benefits of LangSmith and standing on the shoulders of a gigantic open-source community, we’re able to identify the right approaches of using LLMs in an enterprise-setting faster.”Yusuke KajiGeneral Manager of AI“Working with LangChain and LangSmith on the Elastic AI Assistant had a significant positive impact on the overall pace and quality of the development and shipping experience. We couldn’t have achieved \\xa0the product experience delivered to our customers without LangChain, and we couldn’t have done it at the same pace without LangSmith.”James SpiteriDirector of Security Products“As soon as we heard about LangSmith, we moved our entire development stack onto it. We could have built evaluation, testing and monitoring tools in house, but with LangSmith it took us 10x less time to get a 1000x better tool.”Jose PeñaSenior Manager\\n\\n\\n\\n\\n\\n\\n\\n\\nThe reference architecture enterprises adopt for success.LangChain’s suite of products can be used independently or stacked together for multiplicative impact – guiding you through building, running, and managing your LLM apps.20M+Monthly Downloads100K+Apps Powered100K+GitHub Stars4K+ContributorsThe biggest developer community in GenAILearn alongside the 1M+ developers who are pushing the industry forward.Explore LangChain\\n\\n\\nGet started with LangChain's suite of products.Get a demoSign up for freeTeams building with LangChain products are driving operational efficiency, increasing discovery & personalization, and delivering premium products that generate revenue.See customer stories\\n\\n\\nGet inspired by companies who have done it.Financial Services\\n\\n\\nFinTech\\n\\n\\nTechnology\\n\\n\\nReady to start shipping \\u2028reliable GenAI apps faster?Get started with LangChain, LangSmith, and LangGraph to enhance your LLM app development, from prototype to production.Get a demoSign up for freeProductsLangChainLangSmithLangGraphAgentsEvaluationRetrievalResourcesPython DocsJS/TS DocsGitHubIntegrationsChangelogCommunityLangSmith Trust PortalCompanyAboutCareersBlogTwitterLinkedInYouTubeMarketing AssetsSign up for our newsletter to stay up to dateThank you! Your submission has been received!Oops! Something went wrong while submitting the form.All systems operationalPrivacy PolicyTerms of Service\\n\\n\\n\\n\\n\\n\\n\")]\n",
            "[Document(metadata={'source': 'https://www.langchain.com/', 'title': 'LangChain', 'description': 'LangChain’s suite of products supports developers along each step of their development journey.', 'language': 'en'}, page_content=\"LangChain\\n\\n\\n\\n\\n\\n\\n\\n\\n\\n\\n\\n\\n\\n\\n\\n\\n\\n\\n\\n\\n\\n\\n\\nProducts\\n\\nLangGraphLangSmithLangChainResources\\n\\nResources HubBlogCustomer StoriesLangChain AcademyCommunityExpertsChangelogDocs\\n\\nPythonLangGraphLangSmithLangChainJavaScriptLangGraphLangSmithLangChainCompany\\n\\nAboutCareersPricing\\n\\nLangSmithLangGraph PlatformGet a demoSign up\\n\\n\\n\\n\\n\\n\\n\\n\\n\\n\\n\\n\\nProducts\\n\\nLangGraphLangSmithLangChainResources\\n\\nResources HubBlogCustomer StoriesLangChain AcademyCommunityExpertsChangelogDocs\\n\\nPythonLangGraphLangSmithLangChainJavaScriptLangGraphLangSmithLangChainCompany\\n\\nAboutCareersPricing\\n\\nLangSmithLangGraph PlatformGet a demoSign upLangChain’s suite of products supports developers along each step of the LLM application lifecycle.Applications that can reason. Powered by LangChain.Get a demo\\n\\nSign up to be the first to access recordings from Interrupt, The AI\\xa0Agent Conference!Learn More\\n\\n\\nFrom startups to global enterprises, ambitious builders choose LangChain products.BuildLangChain is a composable framework to build with LLMs. LangGraph is the orchestration framework for controllable agentic workflows.RunDeploy your LLM applications at scale with LangGraph Platform, our infrastructure purpose-built for agents.ManageLangSmith is a unified agent observability and evals platform to optimize the performance of your\\xa0AI agents - whether they're built with a LangChain framework or not.\\xa0\\n\\n\\n\\nBuild your app with LangChainBuild context-aware, reasoning applications with LangChain’s flexible framework that leverages your company’s data and APIs. Future-proof your application by making vendor optionality part of your LLM infrastructure design.Learn more about LangChain\\n\\n\\n\\n\\nRun at scale with LangGraph\\xa0PlatformUse LangGraph Platform’s APIs to design agent-driven user experiences featuring human-in-the-loop, multi-agent collaboration, conversation history, long-term memory, and time-travel. Deploy with fault-tolerant scalability.\\n\\n\\nLearn more about LangGraph\\xa0Platform\\n\\nManage agent observability & performance with\\xa0LangSmithGet visibility into your LLM calls and agent reasoning with LangSmith to quickly debug failures.\\xa0Run evals to assess your agent performance over production traffic —\\xa0so you can ensure high-quality responses. Learn more about LangSmith\\n\\n\\nHear from our happy customersLangChain, LangGraph, and LangSmith help teams of all sizes, across all industries - from ambitious startups to established enterprises.“By combining the benefits of LangSmith and standing on the shoulders of a gigantic open-source community, we’re able to identify the right approaches of using LLMs in an enterprise-setting faster.”Yusuke KajiGeneral Manager of AI“Working with LangChain and LangSmith on the Elastic AI Assistant had a significant positive impact on the overall pace and quality of the development and shipping experience. We couldn’t have achieved \\xa0the product experience delivered to our customers without LangChain, and we couldn’t have done it at the same pace without LangSmith.”James SpiteriDirector of Security Products“As soon as we heard about LangSmith, we moved our entire development stack onto it. We could have built evaluation, testing and monitoring tools in house, but with LangSmith it took us 10x less time to get a 1000x better tool.”Jose PeñaSenior Manager\\n\\n\\n\\n\\n\\n\\n\\n\\nThe reference architecture enterprises adopt for success.LangChain’s suite of products can be used independently or stacked together for multiplicative impact – guiding you through building, running, and managing your LLM apps.20M+Monthly Downloads100K+Apps Powered100K+GitHub Stars4K+ContributorsThe biggest developer community in GenAILearn alongside the 1M+ developers who are pushing the industry forward.Explore LangChain\\n\\n\\nGet started with LangChain's suite of products.Get a demoSign up for freeTeams building with LangChain products are driving operational efficiency, increasing discovery & personalization, and delivering premium products that generate revenue.See customer stories\\n\\n\\nGet inspired by companies who have done it.Financial Services\\n\\n\\nFinTech\\n\\n\\nTechnology\\n\\n\\nReady to start shipping \\u2028reliable GenAI apps faster?Get started with LangChain, LangSmith, and LangGraph to enhance your LLM app development, from prototype to production.Get a demoSign up for freeProductsLangChainLangSmithLangGraphAgentsEvaluationRetrievalResourcesPython DocsJS/TS DocsGitHubIntegrationsChangelogCommunityLangSmith Trust PortalCompanyAboutCareersBlogTwitterLinkedInYouTubeMarketing AssetsSign up for our newsletter to stay up to dateThank you! Your submission has been received!Oops! Something went wrong while submitting the form.All systems operationalPrivacy PolicyTerms of Service\\n\\n\\n\\n\\n\\n\\n\")]\n"
          ]
        }
      ]
    },
    {
      "cell_type": "code",
      "source": [
        "\"\"\"\n",
        "pypdf is a PDF library capable of splitting, merging, cropping, and transforming the pages of PDF files.\n",
        "This library is required for the next example.\n",
        "\n",
        "\"\"\"\n",
        "\n",
        "!pip install pypdf"
      ],
      "metadata": {
        "id": "neSkUp2uDEAp"
      },
      "execution_count": null,
      "outputs": []
    },
    {
      "cell_type": "code",
      "source": [
        "\"\"\"\n",
        "c-pdf-loader.py\n",
        "\n",
        "Note: Files are not saved after the Colab runtime terminates.\n",
        "Please upload the PDF file from the link below to the sample_data folder.\n",
        "\n",
        "https://www.babson.edu/media/babson/assets/cutler-center/Introduciton-to-Technical-Analysis.pdf\n",
        "\n",
        "\"\"\"\n",
        "import pprint\n",
        "from langchain_community.document_loaders import PyPDFLoader\n",
        "\n",
        "loader = PyPDFLoader('./sample_data/Introduciton-to-Technical-Analysis.pdf')\n",
        "pages = loader.load()\n",
        "\n",
        "pprint.pprint(pages)"
      ],
      "metadata": {
        "colab": {
          "base_uri": "https://localhost:8080/"
        },
        "id": "w-WKwu3v-SsB",
        "outputId": "c92ee7d6-6662-4a71-c486-b905d3c66c9e"
      },
      "execution_count": 6,
      "outputs": [
        {
          "output_type": "stream",
          "name": "stdout",
          "text": [
            "[Document(metadata={'producer': 'Microsoft® Word 2016', 'creator': 'Microsoft® Word 2016', 'creationdate': '2022-02-04T09:43:27-05:00', 'author': 'Agarwal, Aditya', 'moddate': '2022-02-08T12:34:39-05:00', 'source': './sample_data/Introduciton-to-Technical-Analysis.pdf', 'total_pages': 6, 'page': 0, 'page_label': '1'}, page_content='Technical Analysis: Getting Started \\nBasic Introduction and Beginner’s Guide \\n \\n \\n \\nCreated by: Aditya Agarwal ‘22'),\n",
            " Document(metadata={'producer': 'Microsoft® Word 2016', 'creator': 'Microsoft® Word 2016', 'creationdate': '2022-02-04T09:43:27-05:00', 'author': 'Agarwal, Aditya', 'moddate': '2022-02-08T12:34:39-05:00', 'source': './sample_data/Introduciton-to-Technical-Analysis.pdf', 'total_pages': 6, 'page': 1, 'page_label': '2'}, page_content='2 | I n t r o d u c t i o n  t o  T e c h n i c a l  A n a l y s i s  \\n \\n \\nIntroduction \\nIn this tutorial, we will be exploring what technical analysis is, how to read candlestick charts, and common \\npatterns that traders look for.   \\nWhat is Technical Analysis?  \\nTechnical analysis is the practice of using historical data and current price action to predict future price \\nmovements. Technical analysis uses price charts to identify signals and patterns that provide a lens into \\nmarket psychology. Technical traders aim to benefit from this analysis by catching trend reversals and riding \\nprice momentum.  \\nThis analysis is significantly different from fundamental analysis, which is a longer-term analysis evaluating \\nthe financial strength and growth prospects of a company. While fundamental analysis can be more \\nbeneficial for long-term investing, technical analysis is helpful for timing entries, exits, and shorter-term \\ntrades. Together, technical and fundamental analysis can be coupled to create a trading strategy geared \\ntowards providing alpha. \\nHow to Read a Candlestick Chart \\nOne of the fundamental understandings necessary to learning \\ntechnical analysis is reading candlestick charts. If you have \\nnever studied technical analysis, chances are you have only \\nused a line chart. Line charts only provide one data point, the \\nclosing price of a stock, but candlestick charts provide five: \\nopen, close, low of day (LOD), high of day (HOD), and direction \\nof movement. A visualization of how a candlestick chart \\nprovides this information is illustrated on the left.  \\nEach candle can represent anywhere from 1 minute to 1 year \\ndepending on the settings. Longer time frame charts are more \\nlikely to provide reliable long-term trends.  \\nI highly recommend using tradingview.com to view candlestick charts. They are one of the best online \\nplatforms to view candlestick charts and conduct technical analysis for free. \\nSupport and Resistance \\nOne of the most basic technical indicators consist of support \\nand resistance. As the words indicate, support is typically a \\nprice level at which there have historically been buyers. \\nResistance consists of price level where there have historically \\nbeen sellers. As a result, price tends to bounce at support and \\npullback at resistance. However, these price levels change \\nbased off of catalysts. When resistance is broken, it acts as \\nsupport in the future, and when support breaks, it acts as \\nresistance in the future. An example of this can be seen on the \\nleft.'),\n",
            " Document(metadata={'producer': 'Microsoft® Word 2016', 'creator': 'Microsoft® Word 2016', 'creationdate': '2022-02-04T09:43:27-05:00', 'author': 'Agarwal, Aditya', 'moddate': '2022-02-08T12:34:39-05:00', 'source': './sample_data/Introduciton-to-Technical-Analysis.pdf', 'total_pages': 6, 'page': 2, 'page_label': '3'}, page_content='3 | I n t r o d u c t i o n  t o  T e c h n i c a l  A n a l y s i s  \\n \\nCommon Candlestick Signals \\nAssume each candle represents one day for each of the following examples. \\n1. Hammer Candle \\nPictured to the left is a hammer candle. This type of candle typically \\nconsists of a green body with little to no upper wick, and a long lower \\nwick. This signifies that price action during the day was down trending, \\nbut buyers came in to retrace the price all the way back to opening \\nprice, and then some more.  \\nThis candle is usually a sign of a reversal, or at least a dead cat \\nbounce in a downtrend. An example of this signal being used can be \\nobserved on ticker CRL on March 5th, 2021. \\n \\n2. Shooting Star \\nThis candle structure is opposite to the hammer candle, and is a \\nbearish signal. It typically consists of a red body with little to no lower \\nwick, and a long upper wick. Logically speaking, this shows price \\naction increasing after open, followed by sellers pushing the price \\nback down all the way to the opening price, and then some more.  \\nThis candle is usually a sign of a reversal, or at least a pullback in an uptrend. An example of this signal \\nbeing used can be observed on ticker SPOT on November 2nd, 2021. \\n3.  Bullish Engulfing \\nThis is a bullish signal that occurs when one day’s range completely \\ncovers the previous day’s range. Typically, the first day is a bearish \\nred candle, covered by the following day’s bullish green candle that \\nopens lower than the previous day and closes above the previous \\nday’s range. The buyers regain control and push the price up, \\nindicating a bullish signal.  \\nAn example of this signal being used can be observed on ticker SPY on June 21st, 2021. \\n4. Bearish Engulfing  \\nThis candle structure is the opposite of the bullish engulfing, and is a \\nbearish signal. It typically consists of one day’s bearish range \\ncompletely engulfing the previous day’s range. The sellers take control \\nand push the price down, indicating a bearish signal.  \\nAn example of this signal being used can be observed on ticker NCLH \\non June 9th, 2021. \\nThere are many more signals that you can learn about here: https://www.ig.com/us/trading-strategies/16-\\ncandlestick-patterns-every-trader-should-know-180615'),\n",
            " Document(metadata={'producer': 'Microsoft® Word 2016', 'creator': 'Microsoft® Word 2016', 'creationdate': '2022-02-04T09:43:27-05:00', 'author': 'Agarwal, Aditya', 'moddate': '2022-02-08T12:34:39-05:00', 'source': './sample_data/Introduciton-to-Technical-Analysis.pdf', 'total_pages': 6, 'page': 3, 'page_label': '4'}, page_content='4 | I n t r o d u c t i o n  t o  T e c h n i c a l  A n a l y s i s  \\n \\nCommon Chart Patterns \\nAssume each candle represents one day for each of the following examples. \\n1. Head and Shoulders \\nThe head and shoulders pattern is one of the strongest \\nindicators of an uptrend reversing to a downtrend. In this \\npattern, there is one large peak, or high, with two slightly \\nlower highs on each side. The peak is referred to as the \\nhead, and the two lower highs are considered the \\nshoulders. Once the third peak falls below the neckline, or \\nthe support level from the previous two lows, it is likely \\nthat the stock will enter a downtrend. This is because the \\nstock was previously creating higher highs and higher lows in an uptrend, but a break of the neckline after a \\nlower high signifies that the stock is now creating lower highs and lower lows. An example of this pattern can \\nbe observed on ticker TSLA from Jan 7th to Jan 22nd, 2021. After breaking the neckline, TSLA continued on \\nits downtrend until March 8th, 2021, resulting in almost a 25% depreciation in price from Jan 22nd. \\nThe opposite of this pattern is known as the Inverse Head and Shoulders. This pattern has one low bottom \\nwith two slightly lower lows on each side. If the neckline breaks, it is likely that the stock will reverse from an \\nuptrend to a downtrend. An example of this pattern can be observed on ticker ADSK from September 8th to \\nOctober 9th, 2021. After breaking the neckline, ADSK continued its uptrend until Jan 8th, 2021, resulting in an \\napproximately 40% appreciation in stock price.  \\n2. Double Top \\n \\nThe double top pattern is another pattern that signifies a \\ntrend reversal from an uptrend to a downtrend. In this \\npattern, a stock’s price will peak and retrace to a support \\nlevel before pushing back up to retest the peak. Once \\nrejected, the stock will push back down and break its \\nknown support level. This confirms similar highs and \\nlower lows, indicating the start of a downtrend.  \\n \\nAn example of this pattern can be observed on ticker \\nNKE from November 5th to December 13th, 2021. Prices \\nhit resistance around $177.5 on November 5th and \\nNovember 22nd before breaking the support level of $167 \\non December 14th. As of today, December 20th, 2021, NKE has continued falling.  \\nThe opposite of this pattern is known as the Double Bottom. This pattern has two bottoms that act as \\nsupport near a similar price level. The stock then breaks through resistance to begin a new uptrend. An \\nexample of this pattern can be observed on ticker MSFT from May 12th to June 4th, 2021. MSFT had a \\ndouble bottom around $$239, and entered an uptrend until September 24th since it broke the resistance level \\nof $247.  \\nThere are many more chart patterns that you can learn about here: https://www.ig.com/us/trading-\\nstrategies/10-chart-patterns-every-trader-needs-to-know-190514'),\n",
            " Document(metadata={'producer': 'Microsoft® Word 2016', 'creator': 'Microsoft® Word 2016', 'creationdate': '2022-02-04T09:43:27-05:00', 'author': 'Agarwal, Aditya', 'moddate': '2022-02-08T12:34:39-05:00', 'source': './sample_data/Introduciton-to-Technical-Analysis.pdf', 'total_pages': 6, 'page': 4, 'page_label': '5'}, page_content='5 | I n t r o d u c t i o n  t o  T e c h n i c a l  A n a l y s i s  \\n \\nCommon Technical Indicators \\n1. Relative Strength Index (RSI) \\nThe Relative Strength Index, or RSI is a \\nmomentum indicator that uses recent price \\naction to determine if a stock is overbought or \\noversold. RSI is displayed as an oscillator \\nbetween 0-100. Typically, an RSI above 70 \\nindicates strength, and a potential scenario \\nwhere a stock may be overbought. Similarly, an \\nRSI below 30 indicates weakness, and a \\npotential scenario where a stock may be \\noversold.  \\nRSI divergences occur when RSI changes do \\nnot align with price action. For example, if price \\naction continues to create lower lows and lower highs, but RSI has reversed into an uptrend, this would \\nbe considered a bullish divergence and a technical trader would expect price to reverse into an uptrend. \\nThe same is true vice versa to create a bearish RSI divergence. An example of a bearish RSI divergence \\ncan be observed on ticker DISCA from January 27th, 2021 to March 22nd, 2021.  \\n2. Moving Average Convergence Divergence (MACD) \\nThe Moving Average Convergence Divergence, \\nor MACD, is a technical indicator that tracks \\nmomentum. MACD follows the trend by \\nsubtracting the 26-period exponential moving \\naverage (EMA) from the 12-period EMA. \\nAdditionally, the 9 day EMA of the MACD is then \\nplotted on top of the MACD line, acting as a buy \\nor sell signal. As seen on the image on the left, \\nwhen the MACD crosses from negative to \\npositive, the stock appreciated, and vice versa. \\nWhile this indicator is great for identifying trends \\nand momentum, it should be used with caution \\nbecause it uses historical prices for its calculation \\nand is not a strong independent leading indicator.  \\n \\n3. Bollinger Bands \\nBollinger Bands consists of 3 lines: a simple \\nmoving average (SMA) as the middle band, and \\n2 standard deviations in addition and less than \\nthe 20-day SMA acting as the upper and lower \\nband. The bands contract during periods of low \\nvolatility since the standard deviation decreases, \\nand they expand during periods of high volatility. \\nIt is important to note that while 90% of price \\naction occurs between the bands, price does'),\n",
            " Document(metadata={'producer': 'Microsoft® Word 2016', 'creator': 'Microsoft® Word 2016', 'creationdate': '2022-02-04T09:43:27-05:00', 'author': 'Agarwal, Aditya', 'moddate': '2022-02-08T12:34:39-05:00', 'source': './sample_data/Introduciton-to-Technical-Analysis.pdf', 'total_pages': 6, 'page': 5, 'page_label': '6'}, page_content='6 | I n t r o d u c t i o n  t o  T e c h n i c a l  A n a l y s i s  \\n \\nbreakout above or below the bands, and that is not a signal to enter a trade in the opposite direction. For \\nexample, if a company reports stellar earnings and breaks above the upper Bollinger band, this is not an \\nindicator to go short. Instead, use Bollinger bands to identify periods of low volatility, also known as a \\nsqueeze. This is when the bands contract and price action is limited. This period is usually followed by \\nincreased volatility and the bands expanding. The Bollinger bands should be used in conjunction with \\nother indicators and not as a sole indicator. \\nFinal Notes \\n1. There are many more technical indicators. The ones introduced in this guide are the basics for anyone \\nwho is new to technical analysis and does not know where to begin.  \\n2. Remember that no pattern or indicator will always be right. Set stop losses appropriately to prevent \\nextensive losses if a trade goes sideways. \\n3. When using technical analysis, try to find multiple indicators that align. Often, setups with 3-5 \\nindicators that confirm an entry are more successful than setups that only confirm an entry with 1-2 \\nindicators. \\n \\nI hope this introductory guide to technical analysis was helpful! If you have any further questions or would \\nlike to discuss possible trade ideas, feel free to reach out to me at aagarwal7@babson.edu.')]\n"
          ]
        }
      ]
    },
    {
      "cell_type": "code",
      "source": [
        "\"\"\"\n",
        "d-rec-text-splitter.py\n",
        "\n",
        "Split the document into chunks to fit in the context window of the LLM.\n",
        "\n",
        "LangChain Text Splitters\n",
        "https://python.langchain.com/docs/concepts/text_splitters/\n",
        "\n",
        "\n",
        "Late chunking for better semantic context.\n",
        "https://www.datacamp.com/tutorial/late-chunking\n",
        "https://docs.chonkie.ai/chunkers/overview\n",
        "\n",
        "MTEB Embedding Models (Massive Text Embedding Benchmark)\n",
        "https://modal.com/blog/mteb-leaderboard-article\n",
        "\n",
        "\"\"\"\n",
        "\n",
        "from langchain_text_splitters import RecursiveCharacterTextSplitter\n",
        "\n",
        "from langchain_community.document_loaders import TextLoader\n",
        "loader = TextLoader('./sample_data/ECB_policymakers.txt', encoding=\"utf-8\")\n",
        "docs = loader.load()\n",
        "\n",
        "splitter = RecursiveCharacterTextSplitter(chunk_size=1000, chunk_overlap=200)\n",
        "splitted_docs = splitter.split_documents(docs)\n",
        "\n",
        "pprint.pprint(splitted_docs)\n"
      ],
      "metadata": {
        "colab": {
          "base_uri": "https://localhost:8080/"
        },
        "id": "hsZ1alqvmi1q",
        "outputId": "cd51501b-dbb2-468f-d6d6-cceafb82f3a4"
      },
      "execution_count": 10,
      "outputs": [
        {
          "output_type": "stream",
          "name": "stdout",
          "text": [
            "[Document(metadata={'source': './sample_data/ECB_policymakers.txt'}, page_content=\"European Central Bank policymakers are becoming increasingly confident about cutting interest rates in June as inflation continues its march lower, but there is little to no appetite for a big move, six sources told Reuters.\\n\\nECB governors gathering in Washington for the International Monetary Fund and World Bank's Spring Meetings took stock of a weakening economy in the euro zone and around the world as uncertainty from tariffs imposed by U.S. President Donald Trump puts a dampener on investment.\\n\\nData out of the euro zone also showed business growth stalling this month and pay hikes expected to ease considerably.\\n\\nMost importantly for inflation, the 20% tariff rate provisionally imposed by Trump on European goods had been less severe than modelled by the ECB and the risk of retaliation by the European Union had so far been averted.\"),\n",
            " Document(metadata={'source': './sample_data/ECB_policymakers.txt'}, page_content=\"That meant that many governors were now seeing growing chances of an eighth quarter-point cut at their June 4 meeting, when the ECB will update its own economic forecasts. The ECB trimmed its benchmark rate to 2.25% earlier this month.\\n\\nIn line with the ECB's official line, they were keeping an open mind, however, given that the decision was still more than a month away and economic policy had become unpredictable since Donald Trump's April 2 announcement.\\n\\nAn ECB spokesperson declined to comment.\\n\\nTrump's move shook investor confidence in the U.S. economy and even its status as the world's safe haven, causing fuel prices as well as the dollar to fall against the euro.\\n\\nThis resulted in growing disinflationary pressure in the euro zone, assuaging concerns about high price growth becoming entrenched among even some of the more hawkish members of the ECB's Governing Council.\"),\n",
            " Document(metadata={'source': './sample_data/ECB_policymakers.txt'}, page_content=\"The outlook further out remains foggy, however, with the prospect of a more fragmented world, cheaper imports from China and stronger domestic demand from Germany's fiscal spending plans creating contrasting forces.\\n\\nFor this reason, too, policymakers who spoke to Reuters saw no reason at present to consider a bigger, 50-basis-point cut, which they also believed might raise unnecessary alarm among market participants.\")]\n"
          ]
        }
      ]
    },
    {
      "cell_type": "code",
      "source": [
        "\"\"\"\n",
        "e-rec-text-splitter-code.py\n",
        "\n",
        "Split code languages and Markdown into semantic chunks.\n",
        "\n",
        "\"\"\"\n",
        "\n",
        "from langchain_text_splitters import (\n",
        "    Language,\n",
        "    RecursiveCharacterTextSplitter,\n",
        ")\n",
        "\n",
        "PYTHON_CODE = \"\"\" def hello_world(): print(\"Hello, World!\") # Call the function hello_world() \"\"\"\n",
        "\n",
        "python_splitter = RecursiveCharacterTextSplitter.from_language(\n",
        "    language=Language.PYTHON, chunk_size=50, chunk_overlap=0\n",
        ")\n",
        "\n",
        "python_docs = python_splitter.create_documents([PYTHON_CODE])\n",
        "\n",
        "print(python_docs)"
      ],
      "metadata": {
        "colab": {
          "base_uri": "https://localhost:8080/"
        },
        "id": "XMhr_743cdpO",
        "outputId": "d6c6803d-5379-46b7-b844-fd4458828413"
      },
      "execution_count": 12,
      "outputs": [
        {
          "output_type": "stream",
          "name": "stdout",
          "text": [
            "[Document(metadata={}, page_content='def hello_world(): print(\"Hello, World!\") # Call'), Document(metadata={}, page_content='the function hello_world()')]\n"
          ]
        }
      ]
    },
    {
      "cell_type": "code",
      "source": [
        "\"\"\"\n",
        "g-embeddings.py\n",
        "\n",
        "Generating text embeddings.\n",
        "\n",
        "\"\"\"\n",
        "\n",
        "from langchain_groq import GroqE\n",
        "\n",
        "model = OpenAIEmbeddings(model=\"text-embedding-3-small\")\n",
        "embeddings = model.embed_documents([\n",
        "    \"Hi there!\",\n",
        "    \"Oh, hello!\",\n",
        "    \"What's your name?\",\n",
        "    \"My friends call me World\",\n",
        "    \"Hello World!\"\n",
        "])\n",
        "\n",
        "print(embeddings)"
      ],
      "metadata": {
        "id": "TLE9eiTIdHu0"
      },
      "execution_count": null,
      "outputs": []
    }
  ]
}